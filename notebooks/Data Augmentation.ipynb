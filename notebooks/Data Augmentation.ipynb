{
 "cells": [
  {
   "cell_type": "markdown",
   "metadata": {},
   "source": [
    "# Data Augmentation"
   ]
  },
  {
   "cell_type": "markdown",
   "metadata": {},
   "source": [
    "This notebook will cover the augmentation process of the initial dataset, which can be accessed [here](https://www.kaggle.com/datasets/landlord/multilingual-disaster-response-messages?resource=download&select=disaster_response_messages_training.csv). To support this project's use case, the initial dataset was augmented with the following features/ identifier:\n",
    "- Date\n",
    "- Categorised label\n",
    "- Ticket ID\n",
    "- Language\n",
    "\n",
    "The augmented datasets are also exported in csv format at the end of this notebook.\n",
    "\n",
    "### Assumptions:\n",
    "- There are approximately 2000 tickets in a single year.\n",
    "- Around 30% of the tickets received are categorised, whereas the others aren't."
   ]
  },
  {
   "cell_type": "markdown",
   "metadata": {},
   "source": [
    "### Setting-up the Environment\n",
    "\n",
    "Required libraries are first imported, and then the datasets are read into the environment."
   ]
  },
  {
   "cell_type": "code",
   "execution_count": 1,
   "metadata": {},
   "outputs": [],
   "source": [
    "# Import required libraries\n",
    "import pandas as pd\n",
    "import numpy as np\n",
    "import random\n",
    "import datetime\n",
    "import langid"
   ]
  },
  {
   "cell_type": "code",
   "execution_count": 2,
   "metadata": {},
   "outputs": [
    {
     "name": "stderr",
     "output_type": "stream",
     "text": [
      "/opt/anaconda3/lib/python3.7/site-packages/IPython/core/interactiveshell.py:3063: DtypeWarning: Columns (3) have mixed types.Specify dtype option on import or set low_memory=False.\n",
      "  interactivity=interactivity, compiler=compiler, result=result)\n"
     ]
    }
   ],
   "source": [
    "# Reading in the training, testing, and validation dataset\n",
    "Train_data = pd.read_csv('disaster_response_messages_training.csv')\n",
    "Test_data = pd.read_csv('disaster_response_messages_test.csv')\n",
    "Val_data = pd.read_csv('disaster_response_messages_validation.csv')"
   ]
  },
  {
   "cell_type": "markdown",
   "metadata": {},
   "source": [
    "### Generating Random Dates\n",
    "\n",
    "First, a function is set up to generate random dates. Then, this function is applied to the training, testing, and validation data. We assume that the app receives approximately 2000 tickets a year, hence why the training dates are generated over a period of 10 years, while the testing and validation dates are each generated over a period of 1 year."
   ]
  },
  {
   "cell_type": "code",
   "execution_count": 3,
   "metadata": {},
   "outputs": [],
   "source": [
    "# Define function to generate random date between 2 dates\n",
    "def random_date_generator(start, end):\n",
    "    period = end - start\n",
    "    days = period.days\n",
    "    rand = random.randrange(days)\n",
    "    rand_date = start + datetime.timedelta(days = rand)\n",
    "    \n",
    "    return(rand_date)"
   ]
  },
  {
   "cell_type": "code",
   "execution_count": 4,
   "metadata": {},
   "outputs": [],
   "source": [
    "# Generate random dates for training data\n",
    "n1 = len(Train_data)\n",
    "Date = []\n",
    "start_date = datetime.date(2010, 1, 1)\n",
    "end_date = datetime.date(2019, 12, 31)\n",
    "for i in range(n1):\n",
    "    d_ = random_date_generator(start_date, end_date)\n",
    "    Date.append(d_)\n",
    "\n",
    "Train_data['date'] = Date"
   ]
  },
  {
   "cell_type": "code",
   "execution_count": 5,
   "metadata": {},
   "outputs": [],
   "source": [
    "# Generate random dates for testing data\n",
    "n2 = len(Test_data)\n",
    "Date = []\n",
    "start_date = datetime.date(2020, 1, 1)\n",
    "end_date = datetime.date(2020, 12, 31)\n",
    "for i in range(n2):\n",
    "    d_ = random_date_generator(start_date, end_date)\n",
    "    Date.append(d_)\n",
    "\n",
    "Test_data['date'] = Date"
   ]
  },
  {
   "cell_type": "code",
   "execution_count": 6,
   "metadata": {},
   "outputs": [],
   "source": [
    "# Generate random dates for validation data\n",
    "n3 = len(Val_data)\n",
    "Date = []\n",
    "start_date = datetime.date(2021, 1, 1)\n",
    "end_date = datetime.date(2021, 12, 31)\n",
    "for i in range(n3):\n",
    "    d_ = random_date_generator(start_date, end_date)\n",
    "    Date.append(d_)\n",
    "\n",
    "Val_data['date'] = Date"
   ]
  },
  {
   "cell_type": "markdown",
   "metadata": {},
   "source": [
    "### Generating Labels for Categorised Tickets\n",
    "\n",
    "While submitting a ticket, a user can optionally categorise their ticket (ex: medical aid, food, etc.). Here, we assume that 30% of the tickets are categorised, while the others aren't. This section will start by defining a function to generate the labels identifying categorised tickets, where 1 means that it was and 0 means that it wasn't."
   ]
  },
  {
   "cell_type": "code",
   "execution_count": 7,
   "metadata": {},
   "outputs": [],
   "source": [
    "# Define function to generate labels - 1 (Categorised) or 0 (Not Categorised)\n",
    "def label_generator(N, thres = 0.3):\n",
    "    labels = []\n",
    "    for i in range(N):\n",
    "        rand = np.random.uniform()\n",
    "        if (rand < thres):\n",
    "            x = 1\n",
    "        else:\n",
    "            x = 0\n",
    "        labels.append(x)\n",
    "    return(labels)"
   ]
  },
  {
   "cell_type": "code",
   "execution_count": 8,
   "metadata": {},
   "outputs": [],
   "source": [
    "# Generate labels for training, testing, and validation data\n",
    "Train_data['labeled'] = label_generator(n1)\n",
    "Test_data['labeled'] = label_generator(n2)\n",
    "Val_data['labeled'] = label_generator(n3)"
   ]
  },
  {
   "cell_type": "markdown",
   "metadata": {},
   "source": [
    "### Generating Ticket ID\n",
    "\n",
    "The ticket ID is generated in this section. Earlier submitted tickets will have a smaller ticket ID, starting from 1."
   ]
  },
  {
   "cell_type": "code",
   "execution_count": 9,
   "metadata": {},
   "outputs": [],
   "source": [
    "# Sort data based on date (in ascending order)\n",
    "Train_sorted = Train_data.sort_values('date')\n",
    "Test_sorted = Test_data.sort_values('date')\n",
    "Val_sorted = Val_data.sort_values('date')"
   ]
  },
  {
   "cell_type": "code",
   "execution_count": 10,
   "metadata": {},
   "outputs": [],
   "source": [
    "# Generating ticket ID, with earlier tickets having smaller ID (starting from 1)\n",
    "Train_sorted['ID'] = list(np.arange(1,n1+1))\n",
    "Test_sorted['ID'] = list(np.arange(n1+1,n1+n2+1))\n",
    "Val_sorted['ID'] = list(np.arange(n1+n2+1,n1+n2+n3+1))"
   ]
  },
  {
   "cell_type": "code",
   "execution_count": 11,
   "metadata": {},
   "outputs": [],
   "source": [
    "# Reset index for training, testing, and validation data\n",
    "Train_sorted.reset_index(inplace = True)\n",
    "Test_sorted.reset_index(inplace = True)\n",
    "Val_sorted.reset_index(inplace = True)"
   ]
  },
  {
   "cell_type": "markdown",
   "metadata": {},
   "source": [
    "### Detecting Language of Original Message\n",
    "\n",
    "Here, a column is added to identify the language of each ticket's message."
   ]
  },
  {
   "cell_type": "code",
   "execution_count": 12,
   "metadata": {},
   "outputs": [],
   "source": [
    "# Detect the language in each ticket for the training data\n",
    "lang_train = []\n",
    "for i in range(n1):\n",
    "    msg = Train_sorted['original'][i]\n",
    "    if type(msg) == float:\n",
    "        if np.isnan(msg):\n",
    "            x = 'en'\n",
    "    else:\n",
    "        x = langid.classify(msg.lower())[0]\n",
    "    lang_train.append(x)\n",
    "\n",
    "Train_sorted['language'] = lang_train"
   ]
  },
  {
   "cell_type": "code",
   "execution_count": 13,
   "metadata": {},
   "outputs": [],
   "source": [
    "# Detect the language in each ticket for the testing data\n",
    "lang_test = []\n",
    "for i in range(n2):\n",
    "    msg = Test_sorted['original'][i]\n",
    "    if type(msg) == float:\n",
    "        if np.isnan(msg):\n",
    "            x = 'en'\n",
    "    else:\n",
    "        x = langid.classify(msg.lower())[0]\n",
    "    lang_test.append(x)\n",
    "\n",
    "Test_sorted['language'] = lang_test"
   ]
  },
  {
   "cell_type": "code",
   "execution_count": 14,
   "metadata": {},
   "outputs": [],
   "source": [
    "# Detect the language in each ticket for the validation data\n",
    "lang_val = []\n",
    "for i in range(n3):\n",
    "    msg = Val_sorted['original'][i]\n",
    "    if type(msg) == float:\n",
    "        if np.isnan(msg):\n",
    "            x = 'en'\n",
    "    else:\n",
    "        x = langid.classify(msg.lower())[0]\n",
    "    lang_val.append(x)\n",
    "\n",
    "Val_sorted['language'] = lang_val"
   ]
  },
  {
   "cell_type": "markdown",
   "metadata": {},
   "source": [
    "### Finishing-up\n",
    "\n",
    "Finally, relevant columns are selected, and the final augmented datasets are then exported in csv format."
   ]
  },
  {
   "cell_type": "code",
   "execution_count": 15,
   "metadata": {},
   "outputs": [],
   "source": [
    "# Renaming and selecting relevant columns\n",
    "Train_augmented = Train_sorted[['ID', 'date', 'labeled', 'message', 'original', 'language', 'genre', 'related','PII', \n",
    "                                'request', 'offer', 'aid_related', 'medical_help', 'medical_products', \n",
    "                                'search_and_rescue', 'security', 'military', 'child_alone', 'water', \n",
    "                                'food', 'shelter', 'clothing', 'money', 'missing_people', 'refugees', \n",
    "                                'death', 'other_aid', 'infrastructure_related', 'transport', 'buildings', \n",
    "                                'electricity', 'tools', 'hospitals', 'shops', 'aid_centers', 'other_infrastructure', \n",
    "                                'weather_related', 'floods', 'storm', 'fire', 'earthquake', 'cold', \n",
    "                                'other_weather', 'direct_report']]\n",
    "Test_augmented = Test_sorted[['ID', 'date', 'labeled', 'message', 'original', 'language', 'genre', 'related','PII', \n",
    "                                'request', 'offer', 'aid_related', 'medical_help', 'medical_products', \n",
    "                                'search_and_rescue', 'security', 'military', 'child_alone', 'water', \n",
    "                                'food', 'shelter', 'clothing', 'money', 'missing_people', 'refugees', \n",
    "                                'death', 'other_aid', 'infrastructure_related', 'transport', 'buildings', \n",
    "                                'electricity', 'tools', 'hospitals', 'shops', 'aid_centers', 'other_infrastructure', \n",
    "                                'weather_related', 'floods', 'storm', 'fire', 'earthquake', 'cold', \n",
    "                                'other_weather', 'direct_report']]\n",
    "Val_augmented = Val_sorted[['ID', 'date', 'labeled', 'message', 'original', 'language', 'genre', 'related','PII', \n",
    "                                'request', 'offer', 'aid_related', 'medical_help', 'medical_products', \n",
    "                                'search_and_rescue', 'security', 'military', 'child_alone', 'water', \n",
    "                                'food', 'shelter', 'clothing', 'money', 'missing_people', 'refugees', \n",
    "                                'death', 'other_aid', 'infrastructure_related', 'transport', 'buildings', \n",
    "                                'electricity', 'tools', 'hospitals', 'shops', 'aid_centers', 'other_infrastructure', \n",
    "                                'weather_related', 'floods', 'storm', 'fire', 'earthquake', 'cold', \n",
    "                                'other_weather', 'direct_report']]"
   ]
  },
  {
   "cell_type": "code",
   "execution_count": 16,
   "metadata": {},
   "outputs": [],
   "source": [
    "# Exporting the augmented datasets in csv format\n",
    "Train_augmented.to_csv('Augmented/Train.csv')\n",
    "Test_augmented.to_csv('Augmented/Test.csv')\n",
    "Val_augmented.to_csv('Augmented/Val.csv')"
   ]
  }
 ],
 "metadata": {
  "kernelspec": {
   "display_name": "Python 3",
   "language": "python",
   "name": "python3"
  },
  "language_info": {
   "codemirror_mode": {
    "name": "ipython",
    "version": 3
   },
   "file_extension": ".py",
   "mimetype": "text/x-python",
   "name": "python",
   "nbconvert_exporter": "python",
   "pygments_lexer": "ipython3",
   "version": "3.7.6"
  }
 },
 "nbformat": 4,
 "nbformat_minor": 4
}
